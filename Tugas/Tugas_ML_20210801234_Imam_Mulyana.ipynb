{
  "cells": [
    {
      "cell_type": "markdown",
      "metadata": {
        "id": "G2pOjU8B__ss"
      },
      "source": [
        "\n",
        "# TUGAS MACHINE LEARNING\n",
        "\n",
        "- Nama : Imam Mulyana\n",
        "- NIM : 20210801234"
      ]
    },
    {
      "cell_type": "markdown",
      "metadata": {
        "id": "X2r14uTG__su"
      },
      "source": [
        "# SOAL 1\n",
        "Buatlah identitas diri menggunakan pemograman python sederhana\n"
      ]
    },
    {
      "cell_type": "code",
      "execution_count": 13,
      "metadata": {
        "colab": {
          "base_uri": "https://localhost:8080/"
        },
        "id": "9uk0c7NW__su",
        "outputId": "857ab1ea-cb8c-4f3f-f99a-212c7a71abe2"
      },
      "outputs": [
        {
          "output_type": "stream",
          "name": "stdout",
          "text": [
            "DATA DIRI\n",
            "Nama :  Imam Mulyana\n",
            "NIM :  20210801235\n",
            "Perkuliahan:  Machine Learning\n"
          ]
        }
      ],
      "source": [
        "#jawaban soal 1\n",
        "nama = \"Imam Mulyana\"\n",
        "NIM = \"20210801235\"\n",
        "mata_kuliah = \"Machine Learning\"\n",
        "\n",
        "print(\"DATA DIRI\")\n",
        "print(\"Nama : \", nama)\n",
        "print(\"NIM : \", NIM)\n",
        "print(\"Perkuliahan: \", mata_kuliah)"
      ]
    },
    {
      "cell_type": "markdown",
      "metadata": {
        "id": "Kp2M0B5v__sw"
      },
      "source": [
        "# SOAL 2\n",
        "Buatlah matriksC dengan orde 2x3, dan nilai yang diberikan pada matriksC adalah sebagai berikut:\n",
        "- Baris 1 Kolom 1, nilai = 1\n",
        "- Baris 1 Kolom 2, nilai = 2\n",
        "- Baris 1 Kolom 3, nilai = 3\n",
        "- Baris 2 Kolom 1, nilai = 4\n",
        "- Baris 2 Kolom 2, nilai = 5\n",
        "- Baris 2 Kolom 3, nilai = 6"
      ]
    },
    {
      "cell_type": "code",
      "execution_count": 14,
      "metadata": {
        "colab": {
          "base_uri": "https://localhost:8080/"
        },
        "id": "ffE8I-WN__sw",
        "outputId": "47480305-59fb-4b7f-d38f-18b08084c0bf"
      },
      "outputs": [
        {
          "output_type": "stream",
          "name": "stdout",
          "text": [
            "[[1, 2, 3], [4, 5, 6]]\n"
          ]
        }
      ],
      "source": [
        "#jawaban soal2\n",
        "matriksC= [[1,2,3],[4,5,6]]\n",
        "print(matriksC)"
      ]
    },
    {
      "cell_type": "markdown",
      "metadata": {
        "id": "Lk9MjOhb__sw"
      },
      "source": [
        "# SOAL 3\n",
        "Buatlah matriks dengan orde 3x2, dengan nilai adalah:\n",
        "- Baris 1 Kolom 1, nilai = 2\n",
        "- Baris 1 Kolom 2, nilai = 2\n",
        "- Baris 2 Kolom 1, nilai = 2\n",
        "- Baris 2 Kolom 2, nilai = 2\n",
        "- Baris 3 Kolom 1, nilai = 2\n",
        "- Baris 3 Kolom 2, nilai = 2"
      ]
    },
    {
      "cell_type": "code",
      "execution_count": 15,
      "metadata": {
        "colab": {
          "base_uri": "https://localhost:8080/"
        },
        "id": "SrOuzWl3__sw",
        "outputId": "3551d775-19d7-42f4-a339-e61c70d6913f"
      },
      "outputs": [
        {
          "output_type": "stream",
          "name": "stdout",
          "text": [
            "[[2, 2], [2, 2], [2, 2]]\n"
          ]
        }
      ],
      "source": [
        "#jawaban soal 3\n",
        "matriks = [[2,2],[2,2],[2,2]]\n",
        "print(matriks)"
      ]
    },
    {
      "cell_type": "markdown",
      "metadata": {
        "id": "6q6JfZYZ__sx"
      },
      "source": [
        "# SOAL 4\n",
        "Importlah library Numpy"
      ]
    },
    {
      "cell_type": "code",
      "execution_count": 16,
      "metadata": {
        "id": "NPU5IN4A__sx"
      },
      "outputs": [],
      "source": [
        "import numpy as np"
      ]
    },
    {
      "cell_type": "markdown",
      "metadata": {
        "id": "gMTy1nvn__sx"
      },
      "source": [
        "# SOAL 5\n",
        "Dengan memanfaatkan library numpy\n",
        "Buatlah matriks dengan menggunakan Library Numpy dengan panjang elemen adalah 32 dan matriks memiliki orde 4x8"
      ]
    },
    {
      "cell_type": "code",
      "execution_count": 17,
      "metadata": {
        "colab": {
          "base_uri": "https://localhost:8080/"
        },
        "id": "VfiLBBXn__sx",
        "outputId": "fa9977ad-9196-4881-b231-d8a3e3f95f01"
      },
      "outputs": [
        {
          "output_type": "stream",
          "name": "stdout",
          "text": [
            "[[ 0  1  2  3  4  5  6  7]\n",
            " [ 8  9 10 11 12 13 14 15]\n",
            " [16 17 18 19 20 21 22 23]\n",
            " [24 25 26 27 28 29 30 31]]\n"
          ]
        }
      ],
      "source": [
        "#jawaban 5\n",
        "from numpy import *\n",
        "matriks = range(32)\n",
        "matriks = reshape(matriks, (4,8))\n",
        "print(matriks)"
      ]
    },
    {
      "cell_type": "markdown",
      "metadata": {
        "id": "NLcXtZPs__sy"
      },
      "source": [
        "# SOAL 6\n",
        "Buatlah matriks dengan menggunakan Library Numpy dengan orde 3x30, dan nilai elemen dimulai dari indeks 1 sampai dengan 5 secara random."
      ]
    },
    {
      "cell_type": "code",
      "execution_count": 18,
      "metadata": {
        "colab": {
          "base_uri": "https://localhost:8080/"
        },
        "id": "izpE7Xqr__sy",
        "outputId": "a526f5c4-ddce-4577-db30-a58a558cde62"
      },
      "outputs": [
        {
          "output_type": "stream",
          "name": "stdout",
          "text": [
            "[[4 2 3 3 1 4 4 4 3 3 4 3 1 3 3 3 2 3 1 3 4 2 1 2 3 4 1 1 1 3]\n",
            " [1 4 2 4 1 3 2 3 1 3 2 4 4 4 4 3 2 3 2 2 3 2 4 1 4 4 1 1 4 2]\n",
            " [2 4 4 3 4 1 1 2 2 4 2 4 4 1 4 3 2 2 4 4 2 4 1 4 2 4 1 1 2 1]]\n"
          ]
        }
      ],
      "source": [
        "#jawaban 6\n",
        "import numpy as np\n",
        "from numpy import *\n",
        "\n",
        "matriks = np.random.randint(1,5,(3,30))\n",
        "print(matriks)\n"
      ]
    }
  ],
  "metadata": {
    "interpreter": {
      "hash": "916dbcbb3f70747c44a77c7bcd40155683ae19c65e1c03b4aa3499c5328201f1"
    },
    "kernelspec": {
      "display_name": "Python 3.8.10 64-bit",
      "language": "python",
      "name": "python3"
    },
    "language_info": {
      "codemirror_mode": {
        "name": "ipython",
        "version": 3
      },
      "file_extension": ".py",
      "mimetype": "text/x-python",
      "name": "python",
      "nbconvert_exporter": "python",
      "pygments_lexer": "ipython3",
      "version": "3.8.10"
    },
    "orig_nbformat": 4,
    "colab": {
      "provenance": []
    }
  },
  "nbformat": 4,
  "nbformat_minor": 0
}